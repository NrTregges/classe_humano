{
 "cells": [
  {
   "cell_type": "markdown",
   "id": "2d511f7c",
   "metadata": {},
   "source": [
    "## Classes\n",
    "\n"
   ]
  },
  {
   "cell_type": "code",
   "execution_count": 19,
   "id": "a6f30b59",
   "metadata": {
    "scrolled": true
   },
   "outputs": [],
   "source": [
    "# Criando uma classe\n",
    "\n",
    "class Humano:\n",
    "    def __init__ (self, peso, altura, idade, sexo, nome): \n",
    "        self.peso = peso\n",
    "        self.altura = altura\n",
    "        self.idade = idade\n",
    "        self.sexo = sexo\n",
    "        self.nome = nome\n",
    "        \n",
    "joao = Humano(10, 0.9, 5, \"M\", \"João\")"
   ]
  },
  {
   "cell_type": "code",
   "execution_count": 20,
   "id": "0fd415c6",
   "metadata": {},
   "outputs": [
    {
     "name": "stdout",
     "output_type": "stream",
     "text": [
      "<__main__.Humano object at 0x00000234D5190A00>\n"
     ]
    }
   ],
   "source": [
    "# \"Erro\" proposital\n",
    "print(joao)"
   ]
  },
  {
   "cell_type": "code",
   "execution_count": 23,
   "id": "a506c23b",
   "metadata": {},
   "outputs": [
    {
     "name": "stdout",
     "output_type": "stream",
     "text": [
      "10\n"
     ]
    }
   ],
   "source": [
    "# Forma para chamar características do joão\n",
    "print(joao.peso)"
   ]
  },
  {
   "cell_type": "code",
   "execution_count": 22,
   "id": "1297800f",
   "metadata": {},
   "outputs": [
    {
     "name": "stdout",
     "output_type": "stream",
     "text": [
      "0.9\n"
     ]
    }
   ],
   "source": [
    "print(joao.altura)"
   ]
  },
  {
   "cell_type": "code",
   "execution_count": 24,
   "id": "47ee0354",
   "metadata": {},
   "outputs": [
    {
     "name": "stdout",
     "output_type": "stream",
     "text": [
      "M\n"
     ]
    }
   ],
   "source": [
    "print(joao.sexo)"
   ]
  },
  {
   "cell_type": "code",
   "execution_count": 25,
   "id": "e7ef0caa",
   "metadata": {},
   "outputs": [
    {
     "name": "stdout",
     "output_type": "stream",
     "text": [
      "João\n"
     ]
    }
   ],
   "source": [
    "print(joao.nome)"
   ]
  },
  {
   "cell_type": "code",
   "execution_count": 31,
   "id": "14ac5a33",
   "metadata": {},
   "outputs": [],
   "source": [
    "# Novo Método\n",
    "class Humano:\n",
    "    def __init__ (self, peso, altura, idade, sexo, nome): \n",
    "        self.peso = peso\n",
    "        self.altura = altura\n",
    "        self.idade = idade\n",
    "        self.sexo = sexo\n",
    "        self.nome = nome\n",
    "    def andar(self): # É necessário indentar e adicionar \"self\" pois é a primeira variável do método \"__init__\" para que este método aja sobre o próprio objeto\n",
    "        \n",
    "        print(\"Eu estou andando!\")\n",
    "        \n",
    "joao = Humano(10, 0.9, 5, \"M\", \"João\")\n"
   ]
  },
  {
   "cell_type": "code",
   "execution_count": 32,
   "id": "1f12f3ab",
   "metadata": {},
   "outputs": [
    {
     "name": "stdout",
     "output_type": "stream",
     "text": [
      "Eu estou andando!\n"
     ]
    }
   ],
   "source": [
    "# Invocar o método andar\n",
    "\n",
    "joao.andar()"
   ]
  },
  {
   "cell_type": "markdown",
   "id": "a194eb5f",
   "metadata": {},
   "source": [
    "# Criando a classe: Ação e outras"
   ]
  },
  {
   "cell_type": "code",
   "execution_count": 45,
   "id": "814f30ef",
   "metadata": {},
   "outputs": [],
   "source": [
    "class Acao:\n",
    "    def __init__(self, nome_empresa, codigo, valor_patrimonial, preco_mercado):\n",
    "        self.nome_empresa = nome_empresa\n",
    "        self.codigo = codigo \n",
    "        self.valor_patrimonial = valor_patrimonial\n",
    "        self.preco_mercado = preco_mercado"
   ]
  },
  {
   "cell_type": "code",
   "execution_count": 48,
   "id": "bbf8e347",
   "metadata": {},
   "outputs": [],
   "source": [
    "class Investidor: \n",
    "    def __init__(self, nome_investidor, saldo, carteira):\n",
    "        self.nome_investidor = nome_investidor\n",
    "        self.saldo = saldo\n",
    "        self.carteira = carteira\n",
    "        \n",
    "    def comprar_acao1(self, acao1): \n",
    "        self.carteira[0] += 1"
   ]
  },
  {
   "cell_type": "code",
   "execution_count": 47,
   "id": "066b8bdf",
   "metadata": {},
   "outputs": [],
   "source": [
    "class Carteira: \n",
    "    def __init__(self, lista_acao):\n",
    "        self.lista_acao = lista_acao"
   ]
  },
  {
   "cell_type": "code",
   "execution_count": null,
   "id": "9fb7a564",
   "metadata": {},
   "outputs": [],
   "source": []
  }
 ],
 "metadata": {
  "kernelspec": {
   "display_name": "Python 3 (ipykernel)",
   "language": "python",
   "name": "python3"
  },
  "language_info": {
   "codemirror_mode": {
    "name": "ipython",
    "version": 3
   },
   "file_extension": ".py",
   "mimetype": "text/x-python",
   "name": "python",
   "nbconvert_exporter": "python",
   "pygments_lexer": "ipython3",
   "version": "3.10.9"
  }
 },
 "nbformat": 4,
 "nbformat_minor": 5
}
